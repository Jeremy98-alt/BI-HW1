{
 "cells": [
  {
   "cell_type": "code",
   "execution_count": 2,
   "metadata": {},
   "outputs": [
    {
     "name": "stdout",
     "output_type": "stream",
     "text": [
      "Cloning into 'DiaBLE'...\n",
      "remote: Enumerating objects: 64, done.\u001b[K\n",
      "remote: Total 64 (delta 0), reused 0 (delta 0), pack-reused 64\u001b[K\n",
      "Unpacking objects: 100% (64/64), 30.09 KiB | 655.00 KiB/s, done.\n",
      "fatal: destination path 'DIAMOnD' already exists and is not an empty directory.\n",
      "Requirement already satisfied: markov_clustering in /home/martina/anaconda3/lib/python3.8/site-packages (0.0.6.dev0)\n",
      "Requirement already satisfied: scipy>=0.19.0 in /home/martina/anaconda3/lib/python3.8/site-packages (from markov_clustering) (1.5.2)\n",
      "Requirement already satisfied: numpy in /home/martina/anaconda3/lib/python3.8/site-packages (from markov_clustering) (1.19.5)\n",
      "Requirement already satisfied: scikit-learn in /home/martina/anaconda3/lib/python3.8/site-packages (from markov_clustering) (0.23.2)\n",
      "Requirement already satisfied: threadpoolctl>=2.0.0 in /home/martina/anaconda3/lib/python3.8/site-packages (from scikit-learn->markov_clustering) (2.1.0)\n",
      "Requirement already satisfied: joblib>=0.11 in /home/martina/anaconda3/lib/python3.8/site-packages (from scikit-learn->markov_clustering) (0.17.0)\n",
      "\u001b[33mWARNING: Error parsing requirements for matplotlib: [Errno 2] No such file or directory: '/home/martina/anaconda3/lib/python3.8/site-packages/matplotlib-3.3.2.dist-info/METADATA'\u001b[0m\n",
      "\u001b[33mWARNING: Error parsing requirements for jupyter: [Errno 2] No such file or directory: '/home/martina/anaconda3/lib/python3.8/site-packages/jupyter-1.0.0.dist-info/METADATA'\u001b[0m\n",
      "Note: you may need to restart the kernel to use updated packages.\n"
     ]
    }
   ],
   "source": [
    "colab=False    \n",
    "if colab:\n",
    "    from google.colab import drive\n",
    "    drive.mount('/content/drive')\n",
    "    chdir('/content/drive/MyDrive/BI - Data/')\n",
    "    \n",
    "!git clone https://github.com/dinaghiassian/DIAMOnD DiaBLE\n",
    "!git clone https://github.com/dinaghiassian/DIAMOnD\n",
    "%pip install markov_clustering #https://github.com/GuyAllard/markov_clustering\n",
    "\n",
    "import markov_clustering as mc\n",
    "import statistics\n",
    "import pandas as pd\n",
    "import networkx as nx\n",
    "import matplotlib.pyplot as plt\n",
    "from tqdm import tqdm\n",
    "import ast\n",
    "import numpy as np\n",
    "import math\n",
    "import random\n",
    "from sklearn.model_selection import train_test_split\n",
    "import json\n",
    "import sys\n"
   ]
  },
  {
   "cell_type": "markdown",
   "metadata": {
    "id": "AgmLGiaWHu5f"
   },
   "source": [
    "# 1) Data Gathering\n",
    "\n",
    "As first stage is important to download the files in BioGRID to obtain the main human interactome:"
   ]
  },
  {
   "cell_type": "code",
   "execution_count": 3,
   "metadata": {},
   "outputs": [],
   "source": [
    "def make_seeds_splits(DGA,HSN):\n",
    "    \n",
    "    random.seed(10)\n",
    "    seed_genes = list(set.intersection(set(DGA['geneSymbol'].tolist()), set(HSN['Official Symbol Interactor A'].tolist()).union(HSN['Official Symbol Interactor B'].tolist())))\n",
    "    with open(\"seed_gene.txt\",'w') as f:\n",
    "        f.write(str(seed_genes))\n",
    "    f.close()\n",
    "    print('# disease genes in PPI ', len(seed_genes))\n",
    "    \n",
    "    splits = {}\n",
    "    for i in range(0,5):\n",
    "        start = len(seed_genes)//5*i\n",
    "        splits[i]=seed_genes[start:start + len(seed_genes)//5]\n",
    "    if len(seed_genes)>len(seed_genes)//5:\n",
    "        splits[1]+=seed_genes[len(seed_genes):]\n",
    "        \n",
    "    with open('splits.json', 'w') as fp:\n",
    "        json.dump(splits, fp)\n",
    "    \n",
    "    return seed_genes,splits\n",
    "\n",
    "def import_seeds_split():\n",
    "    with open(\"seed_gene.txt\",'r') as f:\n",
    "        seeds = ast.literal_eval(f.read())\n",
    "    with open('splits.json') as json_file:\n",
    "        splits = json.load(json_file)\n",
    "    \n",
    "    return seeds, splits\n",
    "\n",
    "def interactome_processing(filepath):\n",
    "    '''\n",
    "    Filter out self-loops\n",
    "    Filter out repetitive interactions ([A-B,B-A] or [A-B,A-B] or [B-A,B-A])\n",
    "    Filter out interactions that are not physical\n",
    "    '''\n",
    "    HSN = pd.read_csv(filepath, sep = \"\\t\")\n",
    "    HSN = HSN[HSN['Organism Name Interactor A'] == HSN['Organism Name Interactor B']]\n",
    "    HSN = HSN[HSN['Official Symbol Interactor A'] != HSN['Official Symbol Interactor B']]\n",
    "    HSN = HSN[HSN['Experimental System Type'] == \"physical\"]\n",
    "    return HSN\n",
    "\n",
    "def DGA_processing(filepath, disease):\n",
    "    '''\n",
    "    Filter for disease of interest\n",
    "    '''\n",
    "    DGA = pd.read_csv(filepath, sep = '\\t')\n",
    "    DGA = DGA[DGA['diseaseName'] == disease]\n",
    "    return DGA\n",
    "\n",
    "def make_disease_graph(HSN, DGA, DG_in_PPI):\n",
    "    '''\n",
    "    Print Disease LCC size and returns graph with all nodes\n",
    "    '''\n",
    "    DN = HSN[HSN[\"Official Symbol Interactor A\"].isin(DGA[\"geneSymbol\"]) & HSN[\"Official Symbol Interactor B\"].isin(DGA[\"geneSymbol\"])] \n",
    "    G= nx.Graph()\n",
    "    G.add_nodes_from(DG_in_PPI)\n",
    "    G.add_edges_from(list(zip(map(int, DN[\"Entrez Gene Interactor A\"]), map(int, DN[\"Entrez Gene Interactor B\"]))))\n",
    "    print('# nodes in disease LCC ',max([len(G) for G in sorted(nx.connected_components(G), key=len, reverse=True)]))\n",
    "    return G\n",
    "\n",
    "def extract_LCC_form_PPI(HSN):\n",
    "    '''\n",
    "    Creates graph and returns LCC. Prints LCC size. Save graph adj. matrix as file.\n",
    "    '''\n",
    "    PPI = nx.Graph()\n",
    "    PPI.add_nodes_from(map(int, list(set(HSN[\"Entrez Gene Interactor A\"].tolist() + HSN[\"Entrez Gene Interactor B\"].tolist()))))\n",
    "    PPI.add_edges_from(list(zip(map(int, HSN[\"Entrez Gene Interactor A\"]), map(int, HSN[\"Entrez Gene Interactor B\"]))))\n",
    "    LCCs = [len(PPI) for PPI in sorted(nx.connected_components(PPI), key=len, reverse=True)]\n",
    "    LCC = PPI.subgraph(max(nx.connected_components(PPI), key=len))\n",
    "    print('# nodes ',len(max(nx.connected_components(PPI), key=len)),', # connections ', len(LCC.edges()))\n",
    "    nx.write_adjlist(LCC, \"PPI.adjlist\")\n",
    "    \n",
    "    return LCC\n",
    "\n",
    "def plot_LCC(LCC, DG_in_PPI):\n",
    "    fig = plt.figure(1, figsize=(8, 8))\n",
    "    color_map = []\n",
    "    for node in LCC:\n",
    "        if node in DG_in_PPI:\n",
    "            color_map.append('red')\n",
    "        else: \n",
    "            color_map.append('blue')      \n",
    "\n",
    "    nx.draw(LCC, node_color=color_map, node_size=3)\n",
    "    plt.show()\n",
    "    \n"
   ]
  },
  {
   "cell_type": "code",
   "execution_count": 34,
   "metadata": {},
   "outputs": [
    {
     "name": "stdout",
     "output_type": "stream",
     "text": [
      "##### LCC in PPI #####\n"
     ]
    },
    {
     "name": "stderr",
     "output_type": "stream",
     "text": [
      "/home/martina/anaconda3/lib/python3.8/site-packages/IPython/core/interactiveshell.py:3357: DtypeWarning: Columns (1,2,18) have mixed types.Specify dtype option on import or set low_memory=False.\n",
      "  if (await self.run_code(code, result,  async_=asy)):\n"
     ]
    },
    {
     "name": "stdout",
     "output_type": "stream",
     "text": [
      "# disease genes in PPI  56\n",
      "# nodes  19620 , # connections  665061\n",
      "##### Disease Network #####\n",
      "# nodes in disease LCC  2\n"
     ]
    },
    {
     "data": {
      "image/png": "[encoded data removed]",
      "text/plain": [
       "<Figure size 576x576 with 1 Axes>"
      ]
     },
     "metadata": {},
     "output_type": "display_data"
    }
   ],
   "source": [
    "print('##### LCC in PPI #####')\n",
    "HSN = interactome_processing(\"BIOGRID-ORGANISM-Homo_sapiens-4.4.204.tab3.txt\")\n",
    "DGA = DGA_processing('curated_gene_disease_associations.tsv', 'Libman-Sacks Disease')\n",
    "#DG_in_PPI,splits = make_seeds_splits(DGA,HSN)\n",
    "DG_in_PPI, splits = import_seeds_split()\n",
    "LCC = extract_LCC_form_PPI(HSN)\n",
    "\n",
    "\n",
    "print('##### Disease Network #####')\n",
    "DN = make_disease_graph(HSN, DGA, DG_in_PPI)\n",
    "plot_LCC(DN, DG_in_PPI)"
   ]
  },
  {
   "cell_type": "code",
   "execution_count": 5,
   "metadata": {},
   "outputs": [
    {
     "name": "stdout",
     "output_type": "stream",
     "text": [
      "{0: ['TNFAIP3', 'DNASE1L3', 'RASGRP1', 'TLR5', 'C1QA', 'FCGR2A', 'DNASE1', 'PRDM1', 'CRP', 'HLA-DQA1', 'DEF6'], 1: ['TREX1', 'CR2', 'PTGS2', 'IL21', 'P2RY12', 'BLK', 'ANXA3', 'CFB', 'CSK', 'IL6', 'RASGRP3'], 2: ['CD226', 'SIGLEC6', 'CTLA4', 'CAT', 'IL4', 'IFIH1', 'CLU', 'ITGAM', 'PRL', 'TCF7', 'IL21R'], 3: ['IL10', 'ETS1', 'PTPN22', 'IRF5', 'CLEC16A', 'SLC15A4', 'NCF1', 'FCGR2B', 'IRAK4', 'UHRF1BP1', 'TERT'], 4: ['SH2B3', 'IKZF1', 'IL12B', 'PDCD1', 'HLA-DRB1', 'PXK', 'BANK1', 'SYNGR1', 'TNIP1', 'STAT4', 'JAZF1']}\n"
     ]
    }
   ],
   "source": [
    "print(splits)"
   ]
  },
  {
   "cell_type": "markdown",
   "metadata": {
    "id": "PHyrcq6hoki0"
   },
   "source": [
    "# 2) Algorithms to be used for the heuristic tasks"
   ]
  },
  {
   "cell_type": "code",
   "execution_count": 32,
   "metadata": {},
   "outputs": [],
   "source": [
    "def diamond(LCC, seeds, splits):\n",
    "    \n",
    "    pairs_genes = list(LCC.edges)\n",
    "    textfile = open(\"PPI_Libman.txt\", \"w\")\n",
    "    for gA, gB in tqdm(pairs_genes):\n",
    "        textfile.write(str(gA) + ',' + str(gB) + '\\n') \n",
    "    textfile.close()\n",
    "    \n",
    "    '''\n",
    "    line 317 \n",
    "    candidates = set(cluster_nodes)\n",
    "    universe = set()\n",
    "    for _ in range(0, 2):\n",
    "        for gene in candidates.copy():\n",
    "            universe |= neighbors[gene]\n",
    "            candidates = universe        \n",
    "    N = len(universe)\n",
    "    ''' \n",
    "    # da implementare for loop che cambia i seed genes secondo gli split pre definiti\n",
    "    !python3  DIAMOnD/DIAMOnD.py  PPI_Libman.txt  seed_gene.txt  100 #aumentare da 100 a 500\n",
    "    \n",
    "    for x in [10,4,2,1]: # possiamo usare direttamente i valori (20,100,200...)\n",
    "        print(x, evaluation(math.ceil(56/x),x,splits,seeds))\n",
    "\n",
    "def evaluation(top_n,x,splits,seeds):\n",
    "    recalls = []\n",
    "    precs = []\n",
    "    for i in range(1,11):\n",
    "        cv = pd.read_csv(f'cross_{i}_result100.txt',sep='\\t').DiaBLE_node\n",
    "        top = set(cv[0:top_n].tolist())\n",
    "        inters = top.intersection(seeds)\n",
    "        recall = len(inters)/top_n\n",
    "        prec = len(inters)/x\n",
    "        recalls.append(recall)\n",
    "        precs.append(prec)\n",
    "    return {'recall':recalls, 'precision':precs}    \n",
    "    \n",
    "def MCL(LCC,seeds,splits):\n",
    "    adj_mat = nx.adjacency_matrix(LCC)\n",
    "    recalls = []\n",
    "    precs = []\n",
    "    for inflation in [i / 10 for i in range(14, 18)]:\n",
    "        result = mc.run_mcl(adj_mat, inflation=inflation)\n",
    "        clusters = mc.get_clusters(result)\n",
    "        #Q = mc.modularity(matrix=result, clusters=clusters)\n",
    "        for idx in range(0,5):\n",
    "            test = set(splits[idx])\n",
    "            training = set(seeds).difference(test)\n",
    "            positives = set()\n",
    "            recall = 0\n",
    "            prec = 0\n",
    "            for cluster in clusters:\n",
    "                if len(set(cluster).intersection(training)) != 0:\n",
    "                    positives = positives.union(cluster)\n",
    "            inters = test.intersection(positives)\n",
    "            recall += len(inters)/(len(positives)+10e-10)\n",
    "            prec += len(inters)/(len(test)+10e-10)\n",
    "        recalls.append(recall/5)\n",
    "        precs.append(prec/5)\n",
    "            \n",
    "        print(\"inflation:\", inflation,', modularity', \", # clusters:\", len(clusters),', max #nodes in cluster:', max([len(cluster) for cluster in clusters]),', mean #nodes in cluster:', statistics.mean([len(cluster) for cluster in clusters]))\n",
    "    return recalls,precs"
   ]
  },
  {
   "cell_type": "markdown",
   "metadata": {
    "id": "51JRIhi0uvI7"
   },
   "source": [
    "## 2.1 MCL "
   ]
  },
  {
   "cell_type": "code",
   "execution_count": 30,
   "metadata": {},
   "outputs": [
    {
     "name": "stdout",
     "output_type": "stream",
     "text": [
      "inflation: 1.4 , modularity , # clusters: 159 , max #nodes in cluster: 14772 , mean #nodes in cluster: 123.39622641509433\n",
      "inflation: 1.5 , modularity , # clusters: 328 , max #nodes in cluster: 8978 , mean #nodes in cluster: 59.81707317073171\n",
      "inflation: 1.6 , modularity , # clusters: 625 , max #nodes in cluster: 8412 , mean #nodes in cluster: 31.392\n",
      "inflation: 1.7 , modularity , # clusters: 1180 , max #nodes in cluster: 7148 , mean #nodes in cluster: 16.627118644067796\n"
     ]
    }
   ],
   "source": [
    "MCL_rec, MCL_prec = MCL(LCC,DG_in_PPI,splits)"
   ]
  },
  {
   "cell_type": "markdown",
   "metadata": {
    "id": "FZoWBreQu2lu"
   },
   "source": [
    "## 2.2 DIAMOnD/DiaBLE"
   ]
  },
  {
   "cell_type": "code",
   "execution_count": 33,
   "metadata": {},
   "outputs": [
    {
     "name": "stderr",
     "output_type": "stream",
     "text": [
      "100%|██████████| 665061/665061 [00:00<00:00, 1627248.25it/s]\n"
     ]
    },
    {
     "name": "stdout",
     "output_type": "stream",
     "text": [
      "DIAMOnD(): ignoring 1 of 1 seed genes that are not in the network\n",
      "Traceback (most recent call last):\n",
      "  File \"DIAMOnD/DIAMOnD.py\", line 451, in <module>\n",
      "    added_nodes = DIAMOnD(G_original,\n",
      "  File \"DIAMOnD/DIAMOnD.py\", line 401, in DIAMOnD\n",
      "    added_nodes = diamond_iteration_of_first_X_nodes(G_original,\n",
      "  File \"DIAMOnD/DIAMOnD.py\", line 347, in diamond_iteration_of_first_X_nodes\n",
      "    info[next_node][0],\n",
      "KeyError: 'nix'\n",
      "10 {'recall': [0.0, 0.0, 0.0, 0.0, 0.0, 0.0, 0.0, 0.0, 0.0, 0.0], 'precision': [0.0, 0.0, 0.0, 0.0, 0.0, 0.0, 0.0, 0.0, 0.0, 0.0]}\n",
      "4 {'recall': [0.0, 0.0, 0.0, 0.0, 0.0, 0.0, 0.0, 0.0, 0.0, 0.0], 'precision': [0.0, 0.0, 0.0, 0.0, 0.0, 0.0, 0.0, 0.0, 0.0, 0.0]}\n",
      "2 {'recall': [0.0, 0.0, 0.0, 0.0, 0.0, 0.0, 0.0, 0.0, 0.0, 0.0], 'precision': [0.0, 0.0, 0.0, 0.0, 0.0, 0.0, 0.0, 0.0, 0.0, 0.0]}\n",
      "1 {'recall': [0.0, 0.0, 0.0, 0.0, 0.0, 0.0, 0.0, 0.0, 0.0, 0.0], 'precision': [0.0, 0.0, 0.0, 0.0, 0.0, 0.0, 0.0, 0.0, 0.0, 0.0]}\n"
     ]
    }
   ],
   "source": [
    "diamond(LCC, DG_in_PPI,splits)"
   ]
  },
  {
   "cell_type": "markdown",
   "metadata": {
    "id": "NE9MzG7Bu8nB"
   },
   "source": [
    "## 2.4 Diffusion-based algorithm "
   ]
  },
  {
   "cell_type": "code",
   "execution_count": null,
   "metadata": {
    "colab": {
     "base_uri": "https://localhost:8080/"
    },
    "id": "7CQaftvpwG9A",
    "outputId": "c6cceaef-8e96-42ef-d7fc-b9ec1b611e87"
   },
   "outputs": [
    {
     "name": "stdout",
     "output_type": "stream",
     "text": [
      "[[0.0, 0.001, 0.0005], [0.0, 0.002, 0.001], [0.0, 0.0, 0.0], [0.0, 0.0, 0.0005], [0.0, 0.0, 0.0], [0.0, 0.0, 0.0005], [0.0, 0.0, 0.0005], [0.0, 0.0, 0.0005], [0.0, 0.0, 0.0], [0.0, 0.0, 0.0]]\n",
      "[[0.0, 0.017857142857142856, 0.017857142857142856], [0.0, 0.03571428571428571, 0.03571428571428571], [0.0, 0.0, 0.0], [0.0, 0.0, 0.017857142857142856], [0.0, 0.0, 0.0], [0.0, 0.0, 0.017857142857142856], [0.0, 0.0, 0.017857142857142856], [0.0, 0.0, 0.017857142857142856], [0.0, 0.0, 0.0], [0.0, 0.0, 0.0]]\n"
     ]
    }
   ],
   "source": [
    "def DB_algorithm(seeds)\n",
    "    precision=[]\n",
    "    recall=[]\n",
    "    random.seed(123)\n",
    "    for i in range(1,11):\n",
    "        random.shuffle(seeds)\n",
    "        cross=pd.read_csv('/content/cross {} results.csv'.format(i),sep=',')\n",
    "        cross=cross[cross['selected']==True]\n",
    "        cross=cross[cross['diffusion_input']==0]\n",
    "        cross=cross.sort_values(by='diffusion_output_rank')\n",
    "        par_prec=[]\n",
    "        par_rec=[]\n",
    "        for top in [100,1000,2000]:\n",
    "            check=set(cross[0:top]['name'].tolist())\n",
    "            P=len(check.intersection(seeds))\n",
    "            par_prec.append(P/top)\n",
    "            par_rec.append(P/56)\n",
    "        precision.append(par_prec)\n",
    "        recall.append(par_rec)\n",
    "\n",
    "\n",
    "print(precision)\n",
    "print(recall)"
   ]
  },
  {
   "cell_type": "code",
   "execution_count": null,
   "metadata": {
    "id": "GIIlG5afwG5y"
   },
   "outputs": [],
   "source": [
    "cross=pd.read_csv('/content/cross 1 results.csv',sep=',')\n",
    "#cross=cross[cross['selected']==True]\n",
    "cross=cross[cross['diffusion_input']==0]\n",
    "cross=cross.sort_values(by='diffusion_output_rank')\n",
    "a=set(cross[0:19000]['name'].tolist())\n",
    "a.intersection(seeds)"
   ]
  },
  {
   "cell_type": "code",
   "execution_count": null,
   "metadata": {
    "id": "PSU5v6c9wG3B"
   },
   "outputs": [],
   "source": []
  },
  {
   "cell_type": "code",
   "execution_count": null,
   "metadata": {
    "id": "3XefWDvBwGzq"
   },
   "outputs": [],
   "source": []
  },
  {
   "cell_type": "code",
   "execution_count": null,
   "metadata": {
    "id": "c770F0-cwGwZ"
   },
   "outputs": [],
   "source": []
  },
  {
   "cell_type": "code",
   "execution_count": null,
   "metadata": {
    "id": "5HyvBviwwGpj"
   },
   "outputs": [],
   "source": []
  },
  {
   "cell_type": "code",
   "execution_count": null,
   "metadata": {
    "id": "ccDNw0WswGaZ"
   },
   "outputs": [],
   "source": []
  },
  {
   "cell_type": "markdown",
   "metadata": {
    "id": "ef_TSEqZvBWy"
   },
   "source": [
    "## 2.5 MOSES (Optional)"
   ]
  },
  {
   "cell_type": "markdown",
   "metadata": {
    "id": "MNf-VqSDJJnW"
   },
   "source": [
    "Guide: https://wiki.opencog.org/w/Python#MOSES_from_Python"
   ]
  },
  {
   "cell_type": "markdown",
   "metadata": {
    "id": "x9bkw1hxvFNo"
   },
   "source": [
    "## 2.6 Random Walk with Restart (Optional)"
   ]
  },
  {
   "cell_type": "markdown",
   "metadata": {
    "id": "QMuKDjsuvIDq"
   },
   "source": [
    "# 3) 10-fold cross validation"
   ]
  },
  {
   "cell_type": "markdown",
   "metadata": {
    "id": "UtPBWOHMvL3_"
   },
   "source": [
    "# 4) Extended Validation"
   ]
  },
  {
   "cell_type": "markdown",
   "metadata": {
    "id": "TAIfwONPvP3P"
   },
   "source": [
    "# 5) EnrichR"
   ]
  },
  {
   "cell_type": "code",
   "execution_count": null,
   "metadata": {
    "id": "Aj0qRMsqvdO3"
   },
   "outputs": [],
   "source": []
  }
 ],
 "metadata": {
  "colab": {
   "collapsed_sections": [
    "51JRIhi0uvI7",
    "FZoWBreQu2lu",
    "SeRBty_Uu5TU",
    "ef_TSEqZvBWy"
   ],
   "name": "main_processing.ipynb",
   "provenance": []
  },
  "kernelspec": {
   "display_name": "Python 3",
   "language": "python",
   "name": "python3"
  },
  "language_info": {
   "codemirror_mode": {
    "name": "ipython",
    "version": 3
   },
   "file_extension": ".py",
   "mimetype": "text/x-python",
   "name": "python",
   "nbconvert_exporter": "python",
   "pygments_lexer": "ipython3",
   "version": "3.8.3"
  }
 },
 "nbformat": 4,
 "nbformat_minor": 1
}
