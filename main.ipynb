{
 "cells": [
  {
   "cell_type": "code",
   "execution_count": null,
   "metadata": {},
   "outputs": [],
   "source": [
    "colab=False\n",
    "if colab:\n",
    "    from google.colab import drive\n",
    "    drive.mount('/content/drive')\n",
    "    chdir('/content/drive/MyDrive/BI - Data/')\n",
    "    \n",
    "!git clone https://github.com/dinaghiassian/DIAMOnD DiaBLE\n",
    "!git clone https://github.com/dinaghiassian/DIAMOnD"
   ]
  },
  {
   "cell_type": "code",
   "execution_count": 1,
   "metadata": {},
   "outputs": [
    {
     "name": "stdout",
     "output_type": "stream",
     "text": [
      "Requirement already satisfied: markov_clustering in d:\\anaconda\\lib\\site-packages (0.0.6.dev0)\n",
      "Requirement already satisfied: scikit-learn in d:\\anaconda\\lib\\site-packages (from markov_clustering) (0.23.1)\n",
      "Requirement already satisfied: numpy in d:\\anaconda\\lib\\site-packages (from markov_clustering) (1.18.5)\n",
      "Requirement already satisfied: scipy>=0.19.0 in d:\\anaconda\\lib\\site-packages (from markov_clustering) (1.5.0)\n",
      "Requirement already satisfied: threadpoolctl>=2.0.0 in d:\\anaconda\\lib\\site-packages (from scikit-learn->markov_clustering) (2.1.0)\n",
      "Requirement already satisfied: joblib>=0.11 in d:\\anaconda\\lib\\site-packages (from scikit-learn->markov_clustering) (0.16.0)\n",
      "Note: you may need to restart the kernel to use updated packages.\n"
     ]
    }
   ],
   "source": [
    "#https://github.com/GuyAllard/markov_clustering\n",
    "%pip install markov_clustering\n",
    "\n",
    "import markov_clustering as mc\n",
    "import statistics\n",
    "import pandas as pd\n",
    "import networkx as nx\n",
    "import matplotlib.pyplot as plt\n",
    "from tqdm import tqdm\n",
    "import ast\n",
    "import numpy as np\n",
    "import math\n",
    "import random\n",
    "from sklearn.model_selection import train_test_split\n",
    "import json\n",
    "import sys\n",
    "import os"
   ]
  },
  {
   "cell_type": "markdown",
   "metadata": {
    "id": "AgmLGiaWHu5f"
   },
   "source": [
    "# 1) Data Gathering\n",
    "\n",
    "As first stage is important to download the files in BioGRID to obtain the main human interactome:"
   ]
  },
  {
   "cell_type": "code",
   "execution_count": 11,
   "metadata": {},
   "outputs": [],
   "source": [
    "def make_seeds_splits(DGA,HSN):\n",
    "    \n",
    "    random.seed(10)\n",
    "    seed_genes = list(set.intersection(set(DGA['geneSymbol'].tolist()), set(HSN['Official Symbol Interactor A'].tolist()).union(HSN['Official Symbol Interactor B'].tolist())))\n",
    "    with open(\"seed_gene.txt\",'w') as f:\n",
    "        f.write(str(seed_genes))\n",
    "    f.close()\n",
    "    print('# disease genes in PPI ', len(seed_genes))\n",
    "    \n",
    "    splits = {}\n",
    "    for i in range(0,5):\n",
    "        start = len(seed_genes)//5*i\n",
    "        splits[i]=seed_genes[start:start + len(seed_genes)//5]\n",
    "    if len(seed_genes)>len(seed_genes)//5:\n",
    "        splits[1]+=seed_genes[len(seed_genes):]\n",
    "        \n",
    "    with open('splits.json', 'w') as fp:\n",
    "        json.dump(splits, fp)\n",
    "    \n",
    "    return seed_genes,splits\n",
    "\n",
    "def import_seeds_split():\n",
    "    with open(\"seed_gene.txt\",'r') as f:\n",
    "        seeds = f.readlines()\n",
    "    with open('splits.json') as json_file:\n",
    "        splits = json.load(json_file)\n",
    "    \n",
    "    return seeds, splits\n",
    "\n",
    "def interactome_processing(filepath):\n",
    "    '''\n",
    "    Filter out self-loops\n",
    "    Filter out repetitive interactions ([A-B,B-A] or [A-B,A-B] or [B-A,B-A])\n",
    "    Filter out interactions that are not physical\n",
    "    '''\n",
    "    HSN = pd.read_csv(filepath, sep = \"\\t\")\n",
    "    HSN = HSN[HSN['Organism Name Interactor A'] == HSN['Organism Name Interactor B']]\n",
    "    HSN = HSN[HSN['Official Symbol Interactor A'] != HSN['Official Symbol Interactor B']]\n",
    "    HSN = HSN[HSN['Experimental System Type'] == \"physical\"]\n",
    "    return HSN\n",
    "\n",
    "def DGA_processing(filepath, disease):\n",
    "    '''\n",
    "    Filter for disease of interest\n",
    "    '''\n",
    "    DGA = pd.read_csv(filepath, sep = '\\t')\n",
    "    DGA = DGA[DGA['diseaseName'] == disease]\n",
    "    return DGA\n",
    "\n",
    "def make_disease_graph(HSN, DGA, DG_in_PPI):\n",
    "    '''\n",
    "    Print Disease LCC size and returns graph with all nodes\n",
    "    '''\n",
    "    DN = HSN[HSN[\"Official Symbol Interactor A\"].isin(DGA[\"geneSymbol\"]) & HSN[\"Official Symbol Interactor B\"].isin(DGA[\"geneSymbol\"])] \n",
    "    G= nx.Graph()\n",
    "    G.add_nodes_from(DG_in_PPI)\n",
    "    G.add_edges_from(list(zip(map(int, DN[\"Entrez Gene Interactor A\"]), map(int, DN[\"Entrez Gene Interactor B\"]))))\n",
    "    print('# nodes in disease LCC ',max([len(G) for G in sorted(nx.connected_components(G), key=len, reverse=True)]))\n",
    "    return G\n",
    "\n",
    "def extract_LCC_form_PPI(HSN):\n",
    "    '''\n",
    "    Creates graph and returns LCC. Prints LCC size. Save graph adj. matrix as file.\n",
    "    '''\n",
    "    PPI = nx.Graph()\n",
    "    PPI.add_nodes_from(map(int, list(set(HSN[\"Entrez Gene Interactor A\"].tolist() + HSN[\"Entrez Gene Interactor B\"].tolist()))))\n",
    "    PPI.add_edges_from(list(zip(map(int, HSN[\"Entrez Gene Interactor A\"]), map(int, HSN[\"Entrez Gene Interactor B\"]))))\n",
    "    LCCs = [len(PPI) for PPI in sorted(nx.connected_components(PPI), key=len, reverse=True)]\n",
    "    LCC = PPI.subgraph(max(nx.connected_components(PPI), key=len))\n",
    "    print('# nodes ',len(max(nx.connected_components(PPI), key=len)),', # connections ', len(LCC.edges()))\n",
    "    nx.write_adjlist(LCC, \"PPI.adjlist\")\n",
    "    \n",
    "    return LCC\n",
    "\n",
    "def plot_LCC(LCC, DG_in_PPI):\n",
    "    fig = plt.figure(1, figsize=(8, 8))\n",
    "    color_map = []\n",
    "    for node in LCC:\n",
    "        if node in DG_in_PPI:\n",
    "            color_map.append('red')\n",
    "        else: \n",
    "            color_map.append('blue')      \n",
    "\n",
    "    nx.draw(LCC, node_color=color_map, node_size=3)\n",
    "    plt.show()\n",
    "    \n"
   ]
  },
  {
   "cell_type": "code",
   "execution_count": 12,
   "metadata": {},
   "outputs": [
    {
     "name": "stdout",
     "output_type": "stream",
     "text": [
      "##### LCC in PPI #####\n"
     ]
    },
    {
     "name": "stderr",
     "output_type": "stream",
     "text": [
      "D:\\Anaconda\\lib\\site-packages\\IPython\\core\\interactiveshell.py:3263: DtypeWarning: Columns (1,2,18) have mixed types.Specify dtype option on import or set low_memory=False.\n",
      "  if (await self.run_code(code, result,  async_=asy)):\n"
     ]
    },
    {
     "name": "stdout",
     "output_type": "stream",
     "text": [
      "# nodes  19620 , # connections  665061\n",
      "##### Disease Network #####\n",
      "# nodes in disease LCC  2\n"
     ]
    },
    {
     "data": {
      "image/png": "[encoded data removed]",
      "text/plain": [
       "<Figure size 576x576 with 1 Axes>"
      ]
     },
     "metadata": {},
     "output_type": "display_data"
    }
   ],
   "source": [
    "print('##### LCC in PPI #####')\n",
    "HSN = interactome_processing(\"BIOGRID-ORGANISM-Homo_sapiens-4.4.204.tab3.txt\")\n",
    "DGA = DGA_processing('curated_gene_disease_associations.tsv', 'Libman-Sacks Disease')\n",
    "#DG_in_PPI,splits = make_seeds_splits(DGA,HSN)\n",
    "DG_in_PPI, splits = import_seeds_split()\n",
    "LCC = extract_LCC_form_PPI(HSN)\n",
    "\n",
    "\n",
    "print('##### Disease Network #####')\n",
    "DN = make_disease_graph(HSN, DGA, DG_in_PPI)\n",
    "plot_LCC(DN, DG_in_PPI)"
   ]
  },
  {
   "cell_type": "code",
   "execution_count": 13,
   "metadata": {},
   "outputs": [
    {
     "name": "stdout",
     "output_type": "stream",
     "text": [
      "{'0': ['TNFAIP3', 'DNASE1L3', 'RASGRP1', 'TLR5', 'C1QA', 'FCGR2A', 'DNASE1', 'PRDM1', 'CRP', 'HLA-DQA1', 'DEF6'], '1': ['TREX1', 'CR2', 'PTGS2', 'IL21', 'P2RY12', 'BLK', 'ANXA3', 'CFB', 'CSK', 'IL6', 'RASGRP3'], '2': ['CD226', 'SIGLEC6', 'CTLA4', 'CAT', 'IL4', 'IFIH1', 'CLU', 'ITGAM', 'PRL', 'TCF7', 'IL21R'], '3': ['IL10', 'ETS1', 'PTPN22', 'IRF5', 'CLEC16A', 'SLC15A4', 'NCF1', 'FCGR2B', 'IRAK4', 'UHRF1BP1', 'TERT'], '4': ['SH2B3', 'IKZF1', 'IL12B', 'PDCD1', 'HLA-DRB1', 'PXK', 'BANK1', 'SYNGR1', 'TNIP1', 'STAT4', 'JAZF1']}\n"
     ]
    }
   ],
   "source": [
    "print(splits)"
   ]
  },
  {
   "cell_type": "code",
   "execution_count": 20,
   "metadata": {},
   "outputs": [],
   "source": [
    "geneDiseaseIDs = {\n",
    "    '0': DGA[DGA.geneSymbol.isin(splits['0'])].geneId.tolist(),\n",
    "    '1': DGA[DGA.geneSymbol.isin(splits['1'])].geneId.tolist(),\n",
    "    '2': DGA[DGA.geneSymbol.isin(splits['2'])].geneId.tolist(),\n",
    "    '3': DGA[DGA.geneSymbol.isin(splits['3'])].geneId.tolist(),\n",
    "    '4': DGA[DGA.geneSymbol.isin(splits['4'])].geneId.tolist()\n",
    "}\n",
    "\n",
    "def calculate_dcg(inters, cv, alg_name):\n",
    "  dcg = 0\n",
    "  try:\n",
    "    for dis_gene in inters:\n",
    "      rank = cv.loc[cv[alg_name + '_node'] == dis_gene].index.tolist()[0]\n",
    "      dcg += 1/np.log2(rank+1)\n",
    "  except:\n",
    "    dcg += 0\n",
    "\n",
    "  return dcg\n",
    "\n",
    "def normalized_dcg(ndcg_scores):\n",
    "  return list(np.around(np.array(ndcg_scores)/np.max(ndcg_scores), 3)) # normalizing the results of DCG by its maximum value\n",
    "\n",
    "def evaluation(top_n, cval, alg_name):\n",
    "    recalls, precs, f1s, ndcg_scores = ([] for _ in range(4))\n",
    "\n",
    "    cv = pd.read_csv(f'first_1000_added_nodes_weight_1.txt',sep='\\t')\n",
    "    cv_nodes = cv[alg_name + '_node'].tolist()\n",
    "    top = set(cv_nodes[0:top_n]) # subsetting each cross by 1000, 500 etc.\n",
    "\n",
    "    inters = top.intersection(geneDiseaseIDs[str(i)]) # intersect with the probe set\n",
    "\n",
    "    ## Calculating the DCG\n",
    "    dcg = calculate_dcg(inters, cv, alg_name)\n",
    "\n",
    "    ## Appends the results\n",
    "    recall = round(len(inters)/cval, 3)\n",
    "    prec = round(len(inters)/top_n, 3)\n",
    "\n",
    "    ## Appends the results\n",
    "    recalls.append(recall)\n",
    "    precs.append(prec)\n",
    "    ndcg_scores.append(round(dcg, 3))\n",
    "\n",
    "    try:\n",
    "      f1s.append(round(2*((recall*prec)/(recall+prec)), 3))\n",
    "    except:\n",
    "      f1s.append(0)\n",
    "\n",
    "    return {'recall': recalls, \n",
    "            'precision': precs, \n",
    "            'F1 Score': f1s, \n",
    "            'ndcg': normalized_dcg(ndcg_scores)}"
   ]
  },
  {
   "cell_type": "markdown",
   "metadata": {
    "id": "PHyrcq6hoki0"
   },
   "source": [
    "# 2) Algorithms to be used for the heuristic tasks"
   ]
  },
  {
   "cell_type": "markdown",
   "metadata": {},
   "source": [
    "--> **DIAMOnD**"
   ]
  },
  {
   "cell_type": "code",
   "execution_count": 25,
   "metadata": {},
   "outputs": [],
   "source": [
    "def diamond(LCC, seeds, splits, i, top_n, path):\n",
    "    # filtering the splits at i-th iteration\n",
    "    filteredSymbolGenes_ID = DGA[DGA.geneSymbol.isin(splits[str(i)])].geneId.tolist()\n",
    "    actualDt = list(set(seeds) - set(filteredSymbolGenes_ID))\n",
    "\n",
    "    textfile = open(\"seed_gene.txt\", \"w\")\n",
    "    for element in actualDt:\n",
    "      textfile.write(str(element) + '\\n')\n",
    "    textfile.close()\n",
    "    \n",
    "    pairs_genes = list(LCC.edges)\n",
    "    textfile = open(\"PPI_Libman.txt\", \"w\")\n",
    "    for gA, gB in tqdm(pairs_genes):\n",
    "        textfile.write(str(gA) + ',' + str(gB) + '\\n') \n",
    "    textfile.close()\n",
    "    \n",
    "    # da implementare for loop che cambia i seed genes secondo gli split pre definiti\n",
    "    !python3  DIAMOnD/DIAMOnD.py  PPI_Libman.txt  seed_gene.txt  top_n #aumentare da 100 a 500 \n",
    "    !mv first_1000_added_nodes_weight_1.txt str(f'first_1000_added_nodes_weight_1_Key{i}.txt')\n",
    "    \n",
    "    for x in [1000,500,250,100]:\n",
    "        print(x, evaluation(x, cval = len(splits['0']), alg_name = 'DIAMOnD'))\n",
    "    print('\\n')\n",
    "    \n",
    "    !mv str(f'first_1000_added_nodes_weight_1_Key{i}.txt') str('./path/')"
   ]
  },
  {
   "cell_type": "markdown",
   "metadata": {},
   "source": [
    "--> **DiaBLE**"
   ]
  },
  {
   "cell_type": "code",
   "execution_count": null,
   "metadata": {},
   "outputs": [],
   "source": [
    "    '''\n",
    "    --> to be modified in DiaBLE code <--\n",
    "    after line 317 \n",
    "    candidates = set(cluster_nodes)\n",
    "    universe = set()\n",
    "    for _ in range(0, 2):\n",
    "        for gene in candidates.copy():\n",
    "            universe |= neighbors[gene]\n",
    "            candidates = universe        \n",
    "    N = len(universe)\n",
    "    ''' \n",
    "    \n",
    "    '''\n",
    "    modifies line 415\n",
    "    fout.write('\\t'.join(['#rank', 'DiaBLE_node', 'p_hyper']) + '\\n')\n",
    "    '''"
   ]
  },
  {
   "cell_type": "markdown",
   "metadata": {},
   "source": [
    "--> **MCL**"
   ]
  },
  {
   "cell_type": "code",
   "execution_count": null,
   "metadata": {},
   "outputs": [],
   "source": [
    "def MCL(LCC,seeds,splits):\n",
    "    adj_mat = nx.adjacency_matrix(LCC)\n",
    "    recalls = []\n",
    "    precs = []\n",
    "    for inflation in [i / 10 for i in range(14, 18)]:\n",
    "        result = mc.run_mcl(adj_mat, inflation=inflation)\n",
    "        clusters = mc.get_clusters(result)\n",
    "        #Q = mc.modularity(matrix=result, clusters=clusters)\n",
    "        for idx in range(0,5):\n",
    "            test = set(splits[idx])\n",
    "            training = set(seeds).difference(test)\n",
    "            positives = set()\n",
    "            recall = 0\n",
    "            prec = 0\n",
    "            for cluster in clusters:\n",
    "                if len(set(cluster).intersection(training)) != 0:\n",
    "                    positives = positives.union(cluster)\n",
    "            inters = test.intersection(positives)\n",
    "            recall += len(inters)/(len(positives)+10e-10)\n",
    "            prec += len(inters)/(len(test)+10e-10)\n",
    "        recalls.append(recall/5)\n",
    "        precs.append(prec/5)\n",
    "            \n",
    "        print(\"inflation:\", inflation,', modularity', \", # clusters:\", len(clusters),', max #nodes in cluster:', max([len(cluster) for cluster in clusters]),', mean #nodes in cluster:', statistics.mean([len(cluster) for cluster in clusters]))\n",
    "    return recalls,precs"
   ]
  },
  {
   "cell_type": "markdown",
   "metadata": {
    "id": "51JRIhi0uvI7"
   },
   "source": [
    "## 2.1 MCL "
   ]
  },
  {
   "cell_type": "code",
   "execution_count": null,
   "metadata": {},
   "outputs": [],
   "source": [
    "MCL_rec, MCL_prec = MCL(LCC,DG_in_PPI,splits)"
   ]
  },
  {
   "cell_type": "markdown",
   "metadata": {
    "id": "FZoWBreQu2lu"
   },
   "source": [
    "## 2.2 DIAMOnD/DiaBLE"
   ]
  },
  {
   "cell_type": "code",
   "execution_count": 24,
   "metadata": {},
   "outputs": [
    {
     "name": "stderr",
     "output_type": "stream",
     "text": [
      "100%|██████████████████████████████████████████████████████████████████████| 665061/665061 [00:00<00:00, 671100.14it/s]\n"
     ]
    },
    {
     "name": "stdout",
     "output_type": "stream",
     "text": [
      " \n",
      "        usage: python3 DIAMOnD.py network_file seed_file n alpha(optional) outfile_name (optional)\n",
      "        -----------------------------------------------------------------\n",
      "        network_file : The edgelist must be provided as any delimiter-separated\n",
      "                       table. Make sure the delimiter does not exit in gene IDs\n",
      "                       and is consistent across the file.\n",
      "                       The first two columns of the table will be\n",
      "                       interpreted as an interaction gene1 <==> gene2\n",
      "        seed_file    : table containing the seed genes (if table contains\n",
      "                       more than one column they must be tab-separated;\n",
      "                       the first column will be used only)\n",
      "        n            : desired number of DIAMOnD genes, 200 is a reasonable\n",
      "                       starting point.\n",
      "        alpha        : an integer representing weight of the seeds,default\n",
      "                       value is set to 1\n",
      "        outfile_name : results will be saved under this file name\n",
      "                       by default the outfile_name is set to \"first_n_added_nodes_weight_alpha.txt\"\n",
      " \n"
     ]
    },
    {
     "name": "stderr",
     "output_type": "stream",
     "text": [
      "\"mv\" non Š riconosciuto come comando interno o esterno,\n",
      " un programma eseguibile o un file batch.\n"
     ]
    },
    {
     "ename": "FileNotFoundError",
     "evalue": "[Errno 2] File first_1000_added_nodes_weight_1.txt does not exist: 'first_1000_added_nodes_weight_1.txt'",
     "output_type": "error",
     "traceback": [
      "\u001b[1;31m---------------------------------------------------------------------------\u001b[0m",
      "\u001b[1;31mFileNotFoundError\u001b[0m                         Traceback (most recent call last)",
      "\u001b[1;32m<ipython-input-24-307daffce3d4>\u001b[0m in \u001b[0;36m<module>\u001b[1;34m\u001b[0m\n\u001b[0;32m      3\u001b[0m \u001b[1;33m\u001b[0m\u001b[0m\n\u001b[0;32m      4\u001b[0m \u001b[1;32mfor\u001b[0m \u001b[0mi\u001b[0m \u001b[1;32min\u001b[0m \u001b[0mrange\u001b[0m\u001b[1;33m(\u001b[0m\u001b[1;36m0\u001b[0m\u001b[1;33m,\u001b[0m \u001b[1;36m5\u001b[0m\u001b[1;33m)\u001b[0m\u001b[1;33m:\u001b[0m\u001b[1;33m\u001b[0m\u001b[1;33m\u001b[0m\u001b[0m\n\u001b[1;32m----> 5\u001b[1;33m     \u001b[0mdiamond\u001b[0m\u001b[1;33m(\u001b[0m\u001b[0mLCC\u001b[0m\u001b[1;33m,\u001b[0m \u001b[0mDG_in_PPI\u001b[0m\u001b[1;33m,\u001b[0m \u001b[0msplits\u001b[0m\u001b[1;33m,\u001b[0m \u001b[0mi\u001b[0m\u001b[1;33m,\u001b[0m \u001b[0mtop_n\u001b[0m \u001b[1;33m=\u001b[0m \u001b[1;36m1000\u001b[0m\u001b[1;33m,\u001b[0m \u001b[0mpath\u001b[0m \u001b[1;33m=\u001b[0m \u001b[1;34m'DIAMOnD_results'\u001b[0m\u001b[1;33m)\u001b[0m\u001b[1;33m\u001b[0m\u001b[1;33m\u001b[0m\u001b[0m\n\u001b[0m",
      "\u001b[1;32m<ipython-input-23-190f5e678d3d>\u001b[0m in \u001b[0;36mdiamond\u001b[1;34m(LCC, seeds, splits, i, top_n, path)\u001b[0m\n\u001b[0;32m     20\u001b[0m \u001b[1;33m\u001b[0m\u001b[0m\n\u001b[0;32m     21\u001b[0m     \u001b[1;32mfor\u001b[0m \u001b[0mx\u001b[0m \u001b[1;32min\u001b[0m \u001b[1;33m[\u001b[0m\u001b[1;36m1000\u001b[0m\u001b[1;33m,\u001b[0m\u001b[1;36m500\u001b[0m\u001b[1;33m,\u001b[0m\u001b[1;36m250\u001b[0m\u001b[1;33m,\u001b[0m\u001b[1;36m100\u001b[0m\u001b[1;33m]\u001b[0m\u001b[1;33m:\u001b[0m\u001b[1;33m\u001b[0m\u001b[1;33m\u001b[0m\u001b[0m\n\u001b[1;32m---> 22\u001b[1;33m         \u001b[0mprint\u001b[0m\u001b[1;33m(\u001b[0m\u001b[0mx\u001b[0m\u001b[1;33m,\u001b[0m \u001b[0mevaluation\u001b[0m\u001b[1;33m(\u001b[0m\u001b[0mx\u001b[0m\u001b[1;33m,\u001b[0m \u001b[0mcval\u001b[0m \u001b[1;33m=\u001b[0m \u001b[0mlen\u001b[0m\u001b[1;33m(\u001b[0m\u001b[0msplits\u001b[0m\u001b[1;33m[\u001b[0m\u001b[1;34m'0'\u001b[0m\u001b[1;33m]\u001b[0m\u001b[1;33m)\u001b[0m\u001b[1;33m,\u001b[0m \u001b[0malg_name\u001b[0m \u001b[1;33m=\u001b[0m \u001b[1;34m'DIAMOnD'\u001b[0m\u001b[1;33m)\u001b[0m\u001b[1;33m)\u001b[0m\u001b[1;33m\u001b[0m\u001b[1;33m\u001b[0m\u001b[0m\n\u001b[0m\u001b[0;32m     23\u001b[0m     \u001b[0mprint\u001b[0m\u001b[1;33m(\u001b[0m\u001b[1;34m'\\n'\u001b[0m\u001b[1;33m)\u001b[0m\u001b[1;33m\u001b[0m\u001b[1;33m\u001b[0m\u001b[0m\n\u001b[0;32m     24\u001b[0m \u001b[1;33m\u001b[0m\u001b[0m\n",
      "\u001b[1;32m<ipython-input-20-170804cbeb53>\u001b[0m in \u001b[0;36mevaluation\u001b[1;34m(top_n, cval, alg_name)\u001b[0m\n\u001b[0;32m     24\u001b[0m     \u001b[0mrecalls\u001b[0m\u001b[1;33m,\u001b[0m \u001b[0mprecs\u001b[0m\u001b[1;33m,\u001b[0m \u001b[0mf1s\u001b[0m\u001b[1;33m,\u001b[0m \u001b[0mndcg_scores\u001b[0m \u001b[1;33m=\u001b[0m \u001b[1;33m(\u001b[0m\u001b[1;33m[\u001b[0m\u001b[1;33m]\u001b[0m \u001b[1;32mfor\u001b[0m \u001b[0m_\u001b[0m \u001b[1;32min\u001b[0m \u001b[0mrange\u001b[0m\u001b[1;33m(\u001b[0m\u001b[1;36m4\u001b[0m\u001b[1;33m)\u001b[0m\u001b[1;33m)\u001b[0m\u001b[1;33m\u001b[0m\u001b[1;33m\u001b[0m\u001b[0m\n\u001b[0;32m     25\u001b[0m \u001b[1;33m\u001b[0m\u001b[0m\n\u001b[1;32m---> 26\u001b[1;33m     \u001b[0mcv\u001b[0m \u001b[1;33m=\u001b[0m \u001b[0mpd\u001b[0m\u001b[1;33m.\u001b[0m\u001b[0mread_csv\u001b[0m\u001b[1;33m(\u001b[0m\u001b[1;34mf'first_1000_added_nodes_weight_1.txt'\u001b[0m\u001b[1;33m,\u001b[0m\u001b[0msep\u001b[0m\u001b[1;33m=\u001b[0m\u001b[1;34m'\\t'\u001b[0m\u001b[1;33m)\u001b[0m\u001b[1;33m\u001b[0m\u001b[1;33m\u001b[0m\u001b[0m\n\u001b[0m\u001b[0;32m     27\u001b[0m     \u001b[0mcv_nodes\u001b[0m \u001b[1;33m=\u001b[0m \u001b[0mcv\u001b[0m\u001b[1;33m[\u001b[0m\u001b[0malg_name\u001b[0m \u001b[1;33m+\u001b[0m \u001b[1;34m'_node'\u001b[0m\u001b[1;33m]\u001b[0m\u001b[1;33m.\u001b[0m\u001b[0mtolist\u001b[0m\u001b[1;33m(\u001b[0m\u001b[1;33m)\u001b[0m\u001b[1;33m\u001b[0m\u001b[1;33m\u001b[0m\u001b[0m\n\u001b[0;32m     28\u001b[0m     \u001b[0mtop\u001b[0m \u001b[1;33m=\u001b[0m \u001b[0mset\u001b[0m\u001b[1;33m(\u001b[0m\u001b[0mcv_nodes\u001b[0m\u001b[1;33m[\u001b[0m\u001b[1;36m0\u001b[0m\u001b[1;33m:\u001b[0m\u001b[0mtop_n\u001b[0m\u001b[1;33m]\u001b[0m\u001b[1;33m)\u001b[0m \u001b[1;31m# subsetting each cross by 1000, 500 etc.\u001b[0m\u001b[1;33m\u001b[0m\u001b[1;33m\u001b[0m\u001b[0m\n",
      "\u001b[1;32mD:\\Anaconda\\lib\\site-packages\\pandas\\io\\parsers.py\u001b[0m in \u001b[0;36mparser_f\u001b[1;34m(filepath_or_buffer, sep, delimiter, header, names, index_col, usecols, squeeze, prefix, mangle_dupe_cols, dtype, engine, converters, true_values, false_values, skipinitialspace, skiprows, skipfooter, nrows, na_values, keep_default_na, na_filter, verbose, skip_blank_lines, parse_dates, infer_datetime_format, keep_date_col, date_parser, dayfirst, cache_dates, iterator, chunksize, compression, thousands, decimal, lineterminator, quotechar, quoting, doublequote, escapechar, comment, encoding, dialect, error_bad_lines, warn_bad_lines, delim_whitespace, low_memory, memory_map, float_precision)\u001b[0m\n\u001b[0;32m    674\u001b[0m         )\n\u001b[0;32m    675\u001b[0m \u001b[1;33m\u001b[0m\u001b[0m\n\u001b[1;32m--> 676\u001b[1;33m         \u001b[1;32mreturn\u001b[0m \u001b[0m_read\u001b[0m\u001b[1;33m(\u001b[0m\u001b[0mfilepath_or_buffer\u001b[0m\u001b[1;33m,\u001b[0m \u001b[0mkwds\u001b[0m\u001b[1;33m)\u001b[0m\u001b[1;33m\u001b[0m\u001b[1;33m\u001b[0m\u001b[0m\n\u001b[0m\u001b[0;32m    677\u001b[0m \u001b[1;33m\u001b[0m\u001b[0m\n\u001b[0;32m    678\u001b[0m     \u001b[0mparser_f\u001b[0m\u001b[1;33m.\u001b[0m\u001b[0m__name__\u001b[0m \u001b[1;33m=\u001b[0m \u001b[0mname\u001b[0m\u001b[1;33m\u001b[0m\u001b[1;33m\u001b[0m\u001b[0m\n",
      "\u001b[1;32mD:\\Anaconda\\lib\\site-packages\\pandas\\io\\parsers.py\u001b[0m in \u001b[0;36m_read\u001b[1;34m(filepath_or_buffer, kwds)\u001b[0m\n\u001b[0;32m    446\u001b[0m \u001b[1;33m\u001b[0m\u001b[0m\n\u001b[0;32m    447\u001b[0m     \u001b[1;31m# Create the parser.\u001b[0m\u001b[1;33m\u001b[0m\u001b[1;33m\u001b[0m\u001b[1;33m\u001b[0m\u001b[0m\n\u001b[1;32m--> 448\u001b[1;33m     \u001b[0mparser\u001b[0m \u001b[1;33m=\u001b[0m \u001b[0mTextFileReader\u001b[0m\u001b[1;33m(\u001b[0m\u001b[0mfp_or_buf\u001b[0m\u001b[1;33m,\u001b[0m \u001b[1;33m**\u001b[0m\u001b[0mkwds\u001b[0m\u001b[1;33m)\u001b[0m\u001b[1;33m\u001b[0m\u001b[1;33m\u001b[0m\u001b[0m\n\u001b[0m\u001b[0;32m    449\u001b[0m \u001b[1;33m\u001b[0m\u001b[0m\n\u001b[0;32m    450\u001b[0m     \u001b[1;32mif\u001b[0m \u001b[0mchunksize\u001b[0m \u001b[1;32mor\u001b[0m \u001b[0miterator\u001b[0m\u001b[1;33m:\u001b[0m\u001b[1;33m\u001b[0m\u001b[1;33m\u001b[0m\u001b[0m\n",
      "\u001b[1;32mD:\\Anaconda\\lib\\site-packages\\pandas\\io\\parsers.py\u001b[0m in \u001b[0;36m__init__\u001b[1;34m(self, f, engine, **kwds)\u001b[0m\n\u001b[0;32m    878\u001b[0m             \u001b[0mself\u001b[0m\u001b[1;33m.\u001b[0m\u001b[0moptions\u001b[0m\u001b[1;33m[\u001b[0m\u001b[1;34m\"has_index_names\"\u001b[0m\u001b[1;33m]\u001b[0m \u001b[1;33m=\u001b[0m \u001b[0mkwds\u001b[0m\u001b[1;33m[\u001b[0m\u001b[1;34m\"has_index_names\"\u001b[0m\u001b[1;33m]\u001b[0m\u001b[1;33m\u001b[0m\u001b[1;33m\u001b[0m\u001b[0m\n\u001b[0;32m    879\u001b[0m \u001b[1;33m\u001b[0m\u001b[0m\n\u001b[1;32m--> 880\u001b[1;33m         \u001b[0mself\u001b[0m\u001b[1;33m.\u001b[0m\u001b[0m_make_engine\u001b[0m\u001b[1;33m(\u001b[0m\u001b[0mself\u001b[0m\u001b[1;33m.\u001b[0m\u001b[0mengine\u001b[0m\u001b[1;33m)\u001b[0m\u001b[1;33m\u001b[0m\u001b[1;33m\u001b[0m\u001b[0m\n\u001b[0m\u001b[0;32m    881\u001b[0m \u001b[1;33m\u001b[0m\u001b[0m\n\u001b[0;32m    882\u001b[0m     \u001b[1;32mdef\u001b[0m \u001b[0mclose\u001b[0m\u001b[1;33m(\u001b[0m\u001b[0mself\u001b[0m\u001b[1;33m)\u001b[0m\u001b[1;33m:\u001b[0m\u001b[1;33m\u001b[0m\u001b[1;33m\u001b[0m\u001b[0m\n",
      "\u001b[1;32mD:\\Anaconda\\lib\\site-packages\\pandas\\io\\parsers.py\u001b[0m in \u001b[0;36m_make_engine\u001b[1;34m(self, engine)\u001b[0m\n\u001b[0;32m   1112\u001b[0m     \u001b[1;32mdef\u001b[0m \u001b[0m_make_engine\u001b[0m\u001b[1;33m(\u001b[0m\u001b[0mself\u001b[0m\u001b[1;33m,\u001b[0m \u001b[0mengine\u001b[0m\u001b[1;33m=\u001b[0m\u001b[1;34m\"c\"\u001b[0m\u001b[1;33m)\u001b[0m\u001b[1;33m:\u001b[0m\u001b[1;33m\u001b[0m\u001b[1;33m\u001b[0m\u001b[0m\n\u001b[0;32m   1113\u001b[0m         \u001b[1;32mif\u001b[0m \u001b[0mengine\u001b[0m \u001b[1;33m==\u001b[0m \u001b[1;34m\"c\"\u001b[0m\u001b[1;33m:\u001b[0m\u001b[1;33m\u001b[0m\u001b[1;33m\u001b[0m\u001b[0m\n\u001b[1;32m-> 1114\u001b[1;33m             \u001b[0mself\u001b[0m\u001b[1;33m.\u001b[0m\u001b[0m_engine\u001b[0m \u001b[1;33m=\u001b[0m \u001b[0mCParserWrapper\u001b[0m\u001b[1;33m(\u001b[0m\u001b[0mself\u001b[0m\u001b[1;33m.\u001b[0m\u001b[0mf\u001b[0m\u001b[1;33m,\u001b[0m \u001b[1;33m**\u001b[0m\u001b[0mself\u001b[0m\u001b[1;33m.\u001b[0m\u001b[0moptions\u001b[0m\u001b[1;33m)\u001b[0m\u001b[1;33m\u001b[0m\u001b[1;33m\u001b[0m\u001b[0m\n\u001b[0m\u001b[0;32m   1115\u001b[0m         \u001b[1;32melse\u001b[0m\u001b[1;33m:\u001b[0m\u001b[1;33m\u001b[0m\u001b[1;33m\u001b[0m\u001b[0m\n\u001b[0;32m   1116\u001b[0m             \u001b[1;32mif\u001b[0m \u001b[0mengine\u001b[0m \u001b[1;33m==\u001b[0m \u001b[1;34m\"python\"\u001b[0m\u001b[1;33m:\u001b[0m\u001b[1;33m\u001b[0m\u001b[1;33m\u001b[0m\u001b[0m\n",
      "\u001b[1;32mD:\\Anaconda\\lib\\site-packages\\pandas\\io\\parsers.py\u001b[0m in \u001b[0;36m__init__\u001b[1;34m(self, src, **kwds)\u001b[0m\n\u001b[0;32m   1889\u001b[0m         \u001b[0mkwds\u001b[0m\u001b[1;33m[\u001b[0m\u001b[1;34m\"usecols\"\u001b[0m\u001b[1;33m]\u001b[0m \u001b[1;33m=\u001b[0m \u001b[0mself\u001b[0m\u001b[1;33m.\u001b[0m\u001b[0musecols\u001b[0m\u001b[1;33m\u001b[0m\u001b[1;33m\u001b[0m\u001b[0m\n\u001b[0;32m   1890\u001b[0m \u001b[1;33m\u001b[0m\u001b[0m\n\u001b[1;32m-> 1891\u001b[1;33m         \u001b[0mself\u001b[0m\u001b[1;33m.\u001b[0m\u001b[0m_reader\u001b[0m \u001b[1;33m=\u001b[0m \u001b[0mparsers\u001b[0m\u001b[1;33m.\u001b[0m\u001b[0mTextReader\u001b[0m\u001b[1;33m(\u001b[0m\u001b[0msrc\u001b[0m\u001b[1;33m,\u001b[0m \u001b[1;33m**\u001b[0m\u001b[0mkwds\u001b[0m\u001b[1;33m)\u001b[0m\u001b[1;33m\u001b[0m\u001b[1;33m\u001b[0m\u001b[0m\n\u001b[0m\u001b[0;32m   1892\u001b[0m         \u001b[0mself\u001b[0m\u001b[1;33m.\u001b[0m\u001b[0munnamed_cols\u001b[0m \u001b[1;33m=\u001b[0m \u001b[0mself\u001b[0m\u001b[1;33m.\u001b[0m\u001b[0m_reader\u001b[0m\u001b[1;33m.\u001b[0m\u001b[0munnamed_cols\u001b[0m\u001b[1;33m\u001b[0m\u001b[1;33m\u001b[0m\u001b[0m\n\u001b[0;32m   1893\u001b[0m \u001b[1;33m\u001b[0m\u001b[0m\n",
      "\u001b[1;32mpandas\\_libs\\parsers.pyx\u001b[0m in \u001b[0;36mpandas._libs.parsers.TextReader.__cinit__\u001b[1;34m()\u001b[0m\n",
      "\u001b[1;32mpandas\\_libs\\parsers.pyx\u001b[0m in \u001b[0;36mpandas._libs.parsers.TextReader._setup_parser_source\u001b[1;34m()\u001b[0m\n",
      "\u001b[1;31mFileNotFoundError\u001b[0m: [Errno 2] File first_1000_added_nodes_weight_1.txt does not exist: 'first_1000_added_nodes_weight_1.txt'"
     ]
    }
   ],
   "source": [
    "!mkdir DIAMOnD_results\n",
    "!mkdir DiaBLE_results\n",
    "\n",
    "for i in range(0, 5):\n",
    "    diamond(LCC, DG_in_PPI, splits, i, top_n = 1000, path = 'DIAMOnD_results')"
   ]
  },
  {
   "cell_type": "markdown",
   "metadata": {
    "id": "NE9MzG7Bu8nB"
   },
   "source": [
    "## 2.4 Diffusion-based algorithm "
   ]
  },
  {
   "cell_type": "code",
   "execution_count": null,
   "metadata": {
    "colab": {
     "base_uri": "https://localhost:8080/"
    },
    "id": "7CQaftvpwG9A",
    "outputId": "c6cceaef-8e96-42ef-d7fc-b9ec1b611e87"
   },
   "outputs": [],
   "source": [
    "def DB_algorithm(seeds)\n",
    "    precision=[]\n",
    "    recall=[]\n",
    "    random.seed(123)\n",
    "    for i in range(1,11):\n",
    "        random.shuffle(seeds)\n",
    "        cross=pd.read_csv('/content/cross {} results.csv'.format(i),sep=',')\n",
    "        cross=cross[cross['selected']==True]\n",
    "        cross=cross[cross['diffusion_input']==0]\n",
    "        cross=cross.sort_values(by='diffusion_output_rank')\n",
    "        par_prec=[]\n",
    "        par_rec=[]\n",
    "        for top in [100,1000,2000]:\n",
    "            check=set(cross[0:top]['name'].tolist())\n",
    "            P=len(check.intersection(seeds))\n",
    "            par_prec.append(P/top)\n",
    "            par_rec.append(P/56)\n",
    "        precision.append(par_prec)\n",
    "        recall.append(par_rec)\n",
    "\n",
    "\n",
    "print(precision)\n",
    "print(recall)"
   ]
  },
  {
   "cell_type": "code",
   "execution_count": null,
   "metadata": {
    "id": "GIIlG5afwG5y"
   },
   "outputs": [],
   "source": [
    "cross=pd.read_csv('/content/cross 1 results.csv',sep=',')\n",
    "#cross=cross[cross['selected']==True]\n",
    "cross=cross[cross['diffusion_input']==0]\n",
    "cross=cross.sort_values(by='diffusion_output_rank')\n",
    "a=set(cross[0:19000]['name'].tolist())\n",
    "a.intersection(seeds)"
   ]
  },
  {
   "cell_type": "markdown",
   "metadata": {
    "id": "ef_TSEqZvBWy"
   },
   "source": [
    "## 2.5 MOSES (Optional)"
   ]
  },
  {
   "cell_type": "markdown",
   "metadata": {
    "id": "MNf-VqSDJJnW"
   },
   "source": [
    "Guide: https://wiki.opencog.org/w/Python#MOSES_from_Python"
   ]
  },
  {
   "cell_type": "markdown",
   "metadata": {
    "id": "x9bkw1hxvFNo"
   },
   "source": [
    "## 2.6 Random Walk with Restart (Optional)\n",
    "\n",
    "To be done..."
   ]
  },
  {
   "cell_type": "markdown",
   "metadata": {
    "id": "UtPBWOHMvL3_"
   },
   "source": [
    "# 4) Extended Validation"
   ]
  },
  {
   "cell_type": "markdown",
   "metadata": {
    "id": "TAIfwONPvP3P"
   },
   "source": [
    "# 5) EnrichR"
   ]
  },
  {
   "cell_type": "markdown",
   "metadata": {
    "id": "Aj0qRMsqvdO3"
   },
   "source": [
    "This section should be done re-coding whole of the operations seen before"
   ]
  }
 ],
 "metadata": {
  "colab": {
   "collapsed_sections": [
    "51JRIhi0uvI7",
    "FZoWBreQu2lu",
    "SeRBty_Uu5TU",
    "ef_TSEqZvBWy"
   ],
   "name": "main_processing.ipynb",
   "provenance": []
  },
  "kernelspec": {
   "display_name": "Python 3",
   "language": "python",
   "name": "python3"
  },
  "language_info": {
   "codemirror_mode": {
    "name": "ipython",
    "version": 3
   },
   "file_extension": ".py",
   "mimetype": "text/x-python",
   "name": "python",
   "nbconvert_exporter": "python",
   "pygments_lexer": "ipython3",
   "version": "3.8.3"
  }
 },
 "nbformat": 4,
 "nbformat_minor": 1
}
